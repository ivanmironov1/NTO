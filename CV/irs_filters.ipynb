{
 "cells": [
  {
   "cell_type": "code",
   "execution_count": 1,
   "id": "45d18555",
   "metadata": {},
   "outputs": [],
   "source": [
    "from __future__ import print_function\n",
    "from ipywidgets import interact, interactive, fixed, interact_manual\n",
    "import ipywidgets as widgets\n",
    "\n",
    "from matplotlib import pyplot as plt\n",
    "import cv2"
   ]
  },
  {
   "cell_type": "code",
   "execution_count": 2,
   "id": "a01e8428",
   "metadata": {},
   "outputs": [],
   "source": [
    "img = cv2.imread(r'robot_img.png')\n",
    "img = cv2.cvtColor(img, cv2.COLOR_BGR2RGB)"
   ]
  },
  {
   "cell_type": "markdown",
   "id": "49b4cedf",
   "metadata": {},
   "source": [
    "# inRange"
   ]
  },
  {
   "cell_type": "code",
   "execution_count": 4,
   "id": "8deae6f7",
   "metadata": {},
   "outputs": [
    {
     "data": {
      "application/vnd.jupyter.widget-view+json": {
       "model_id": "3ca07fc92f8447b69a9a61dba0b9c4ce",
       "version_major": 2,
       "version_minor": 0
      },
      "text/plain": [
       "HBox(children=(IntSlider(value=0, max=255), IntSlider(value=0, max=255), IntSlider(value=0, max=255), IntSlide…"
      ]
     },
     "metadata": {},
     "output_type": "display_data"
    },
    {
     "data": {
      "application/vnd.jupyter.widget-view+json": {
       "model_id": "18934d434bfc4337a81cbb930c9dc322",
       "version_major": 2,
       "version_minor": 0
      },
      "text/plain": [
       "Output()"
      ]
     },
     "metadata": {},
     "output_type": "display_data"
    }
   ],
   "source": [
    "r_d = widgets.IntSlider(value=0, min=0, max=255)\n",
    "g_d = widgets.IntSlider(value=0, min=0, max=255)\n",
    "b_d = widgets.IntSlider(value=0, min=0, max=255)\n",
    "r_u = widgets.IntSlider(value=255, min=0, max=255)\n",
    "g_u = widgets.IntSlider(value=255, min=0, max=255)\n",
    "b_u = widgets.IntSlider(value=255, min=0, max=255)\n",
    "ui = widgets.HBox([r_d, g_d, b_d, r_u, g_u, b_u])\n",
    "def f(r_d, g_d, b_d, r_u, g_u, b_u):\n",
    "    new_img = cv2.inRange(img, (r_d, g_d, b_d), (r_u, g_u, b_u))\n",
    "    plt.imshow(new_img)\n",
    "    plt.show()\n",
    "    print(r_d, g_d, b_d, r_u, g_u, b_u)\n",
    "\n",
    "out = widgets.interactive_output(f, {'r_d': r_d, 'g_d': g_d, 'b_d': b_d, 'r_u': r_u, 'g_u': g_u, 'b_u': b_u})\n",
    "\n",
    "display(ui, out)"
   ]
  },
  {
   "cell_type": "code",
   "execution_count": null,
   "id": "b870b55f",
   "metadata": {},
   "outputs": [],
   "source": []
  }
 ],
 "metadata": {
  "kernelspec": {
   "display_name": "Python 3 (ipykernel)",
   "language": "python",
   "name": "python3"
  },
  "language_info": {
   "codemirror_mode": {
    "name": "ipython",
    "version": 3
   },
   "file_extension": ".py",
   "mimetype": "text/x-python",
   "name": "python",
   "nbconvert_exporter": "python",
   "pygments_lexer": "ipython3",
   "version": "3.9.16"
  }
 },
 "nbformat": 4,
 "nbformat_minor": 5
}
